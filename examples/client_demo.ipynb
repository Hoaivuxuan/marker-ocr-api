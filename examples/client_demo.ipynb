{
 "cells": [
  {
   "cell_type": "code",
   "execution_count": 2,
   "metadata": {},
   "outputs": [
    {
     "ename": "ModuleNotFoundError",
     "evalue": "No module named 'marker_api_client'",
     "output_type": "error",
     "traceback": [
      "\u001b[1;31m---------------------------------------------------------------------------\u001b[0m",
      "\u001b[1;31mModuleNotFoundError\u001b[0m                       Traceback (most recent call last)",
      "Cell \u001b[1;32mIn[2], line 1\u001b[0m\n\u001b[1;32m----> 1\u001b[0m \u001b[38;5;28;01mfrom\u001b[39;00m \u001b[38;5;21;01mmarker_api_client\u001b[39;00m \u001b[38;5;28;01mimport\u001b[39;00m MarkerAPIClient\n\u001b[0;32m      3\u001b[0m client \u001b[38;5;241m=\u001b[39m MarkerAPIClient(base_url\u001b[38;5;241m=\u001b[39m\u001b[38;5;124m\"\u001b[39m\u001b[38;5;124mhttp://localhost:8080\u001b[39m\u001b[38;5;124m\"\u001b[39m)\n",
      "\u001b[1;31mModuleNotFoundError\u001b[0m: No module named 'marker_api_client'"
     ]
    }
   ],
   "source": [
    "from marker_api_client import MarkerAPIClient\n",
    "\n",
    "client = MarkerAPIClient(base_url=\"http://localhost:8080\")"
   ]
  },
  {
   "cell_type": "code",
   "execution_count": 5,
   "metadata": {},
   "outputs": [
    {
     "name": "stderr",
     "output_type": "stream",
     "text": [
      "2024-10-15 17:30:30,337 - INFO - Converting batch of 1 files\n",
      "Preparing files:   0%|          | 0/1 [00:00<?, ?it/s]2024-10-15 17:30:30,338 - INFO - Prepared file: ./data/llama.pdf\n",
      "Preparing files: 100%|██████████| 1/1 [00:00<00:00, 2178.86it/s]\n",
      "2024-10-15 17:30:30,339 - INFO - Sending batch conversion request\n",
      "2024-10-15 17:30:30,362 - INFO - Batch conversion request successful\n"
     ]
    },
    {
     "name": "stdout",
     "output_type": "stream",
     "text": [
      "task_id='d6006404-dbd7-4afa-a5cb-b5ad30f3df73' status='Processing'\n"
     ]
    }
   ],
   "source": [
    "result = client.load_data([\"./data/llama.pdf\"], show_progress=True)\n",
    "print(result)"
   ]
  },
  {
   "cell_type": "code",
   "execution_count": null,
   "metadata": {},
   "outputs": [],
   "source": []
  }
 ],
 "metadata": {
  "kernelspec": {
   "display_name": "Python 3",
   "language": "python",
   "name": "python3"
  },
  "language_info": {
   "codemirror_mode": {
    "name": "ipython",
    "version": 3
   },
   "file_extension": ".py",
   "mimetype": "text/x-python",
   "name": "python",
   "nbconvert_exporter": "python",
   "pygments_lexer": "ipython3",
   "version": "3.11.5"
  }
 },
 "nbformat": 4,
 "nbformat_minor": 2
}
